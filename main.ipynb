{
 "cells": [
  {
   "cell_type": "code",
   "execution_count": 1,
   "metadata": {
    "collapsed": false
   },
   "outputs": [],
   "source": [
    "import cn_utils\n",
    "import Poetry\n",
    "\n",
    "import numpy as np\n",
    "import matplotlib.pyplot as plt\n",
    "\n",
    "from cs231n.gradient_check import eval_numerical_gradient, eval_numerical_gradient_array\n",
    "from cs231n.rnn_layers import *\n",
    "from cs231n.captioning_solver import CaptioningSolver\n",
    "from cs231n.classifiers.rnn import CaptioningRNN\n",
    "from cs231n.coco_utils import load_coco_data, sample_coco_minibatch, decode_captions\n",
    "from cs231n.image_utils import image_from_url\n",
    "%load_ext autoreload\n",
    "%autoreload 2\n"
   ]
  },
  {
   "cell_type": "code",
   "execution_count": 75,
   "metadata": {
    "collapsed": false
   },
   "outputs": [
    {
     "name": "stdout",
     "output_type": "stream",
     "text": [
      "all files:\n",
      "['luchai.txt', 'zhongnanwangyuxue.txt', 'denghuanghelou.txt', 'chunxiao.txt', 'zashi.txt', 'jingyesi.txt', 'xiangsi.txt']\n",
      "reading file:  ./poetry/luchai.txt\n",
      "鹿柴\n",
      "stt空山不见人，但闻人语响。返影入深林，复照青苔上。end\n",
      "----- reading finished -----\n",
      "\n",
      "\n",
      "reading file:  ./poetry/zhongnanwangyuxue.txt\n",
      "终南望余雪\n",
      "stt终南阴岭秀，积雪浮云端。林表明霁色，城中增暮寒。end\n",
      "----- reading finished -----\n",
      "\n",
      "\n",
      "reading file:  ./poetry/denghuanghelou.txt\n",
      "登鹳雀楼\n",
      "stt白日依山尽，黄河入海流。欲穷千里目，更上一层楼。end\n",
      "----- reading finished -----\n",
      "\n",
      "\n",
      "reading file:  ./poetry/chunxiao.txt\n",
      "春晓\n",
      "stt春眠不觉晓，处处闻啼鸟。夜来风雨声，花落知多少。end\n",
      "----- reading finished -----\n",
      "\n",
      "\n",
      "reading file:  ./poetry/zashi.txt\n",
      "杂诗\n",
      "stt君自故乡来，应知故乡事。来日绮窗前，寒梅著花未。end\n",
      "----- reading finished -----\n",
      "\n",
      "\n",
      "reading file:  ./poetry/jingyesi.txt\n",
      "静夜思\n",
      "stt床前明月光，疑是地上霜。举头望明月，低头思故乡。end\n",
      "----- reading finished -----\n",
      "\n",
      "\n",
      "reading file:  ./poetry/xiangsi.txt\n",
      "相思\n",
      "stt红豆生南国，春来发几枝。愿君多采撷，此物最相思。end\n",
      "----- reading finished -----\n",
      "\n",
      "\n"
     ]
    }
   ],
   "source": [
    "poetries = cn_utils.readFile('./poetry')\n",
    "\n",
    "word_to_idx, idx_to_word = cn_utils.get_idx_and_words(poetries)\n",
    "\n",
    "encodec_poetry = cn_utils.encodePoetry(poetries[0],word_to_idx)\n",
    "\n",
    "decoded_poetry = cn_utils.decodePoetry(encodec_poetry,idx_to_word)\n"
   ]
  },
  {
   "cell_type": "code",
   "execution_count": 76,
   "metadata": {
    "collapsed": false
   },
   "outputs": [],
   "source": [
    "encoded_poetries = []\n",
    "for pt in poetries:\n",
    "    encoded_poetries.append(cn_utils.encodePoetry(pt, word_to_idx))"
   ]
  },
  {
   "cell_type": "code",
   "execution_count": 77,
   "metadata": {
    "collapsed": false
   },
   "outputs": [],
   "source": [
    "import poetry_utils\n",
    "data = {}\n",
    "data = poetry_utils.generate_data(encoded_poetries, data)"
   ]
  },
  {
   "cell_type": "code",
   "execution_count": 96,
   "metadata": {
    "collapsed": false,
    "scrolled": false
   },
   "outputs": [
    {
     "name": "stdout",
     "output_type": "stream",
     "text": [
      "Automatic pdb calling has been turned ON\n",
      "(7, 20) (7, 100)\n",
      "(Iteration 1 / 100) loss: 120.344428\n",
      "(Iteration 11 / 100) loss: 80.815438\n",
      "(Iteration 21 / 100) loss: 50.152404\n",
      "(Iteration 31 / 100) loss: 36.567201\n",
      "(Iteration 41 / 100) loss: 25.958677\n",
      "(Iteration 51 / 100) loss: 19.657507\n",
      "(Iteration 61 / 100) loss: 15.094927\n",
      "(Iteration 71 / 100) loss: 13.667380\n",
      "(Iteration 81 / 100) loss: 12.790111\n",
      "(Iteration 91 / 100) loss: 12.386897\n"
     ]
    },
    {
     "data": {
      "image/png": "[encoded data removed]",
      "text/plain": [
       "<matplotlib.figure.Figure at 0x7f065bb20310>"
      ]
     },
     "metadata": {},
     "output_type": "display_data"
    }
   ],
   "source": [
    "%pdb on\n",
    "small_data = data\n",
    "print data['train_features'].shape,data['train_captions'].shape\n",
    "small_rnn_model = CaptioningRNN(\n",
    "          cell_type='lstm',\n",
    "          word_to_idx=word_to_idx,\n",
    "          input_dim=data['train_features'].shape[1],\n",
    "          hidden_dim=512,\n",
    "          wordvec_dim=256,\n",
    "        )\n",
    "\n",
    "small_rnn_solver = CaptioningSolver(small_rnn_model, small_data,\n",
    "           update_rule='adam',\n",
    "           num_epochs=100,\n",
    "           batch_size=25,\n",
    "           optim_config={\n",
    "             'learning_rate': 5e-3,\n",
    "           },\n",
    "           lr_decay=0.95,\n",
    "           verbose=True, print_every=10,\n",
    "         )\n",
    "\n",
    "small_rnn_solver.train()\n",
    "\n",
    "# Plot the training losses\n",
    "plt.plot(small_rnn_solver.loss_history)\n",
    "plt.xlabel('Iteration')\n",
    "plt.ylabel('Loss')\n",
    "plt.title('Training loss history')\n",
    "plt.show()"
   ]
  },
  {
   "cell_type": "code",
   "execution_count": 97,
   "metadata": {
    "collapsed": false
   },
   "outputs": [],
   "source": [
    "sample_captions = small_rnn_model.sample(data['train_features'])"
   ]
  },
  {
   "cell_type": "code",
   "execution_count": 98,
   "metadata": {
    "collapsed": false
   },
   "outputs": [],
   "source": [
    "first = cn_utils.decodeChinese(sample_captions[0], idx_to_word)\n",
    "second = cn_utils.decodeChinese(sample_captions[1], idx_to_word)"
   ]
  },
  {
   "cell_type": "code",
   "execution_count": 108,
   "metadata": {
    "collapsed": false
   },
   "outputs": [
    {
     "name": "stdout",
     "output_type": "stream",
     "text": [
      "[ 3.  4.  0.  0.  0.  0.  0.  0.  0.  0.  0.  0.  0.  0.  0.  0.  0.  0.\n",
      "  0.  0.]\n"
     ]
    }
   ],
   "source": [
    "print data['train_features'][0]"
   ]
  },
  {
   "cell_type": "code",
   "execution_count": 110,
   "metadata": {
    "collapsed": false
   },
   "outputs": [
    {
     "name": "stdout",
     "output_type": "stream",
     "text": [
      "鹿柴blkblkblkblkblkblkblkblkblkblkblkblkblkblkblkblkblkblk \n",
      "stt空山不见人，但闻人语响。返影入深林，复照青苔上。endendend霁色\n",
      "终南望余雪blkblkblkblkblkblkblkblkblkblkblkblkblkblkblk \n",
      "stt终南阴岭秀，积雪浮云端。林表明霁色，城中增暮寒。endendend霁，\n"
     ]
    }
   ],
   "source": [
    "print cn_utils.decodeChinese(data['train_features'][0].astype(int), idx_to_word), '\\n', first\n",
    "print cn_utils.decodeChinese(data['train_features'][1].astype(int), idx_to_word), '\\n', second"
   ]
  },
  {
   "cell_type": "code",
   "execution_count": 101,
   "metadata": {
    "collapsed": false
   },
   "outputs": [],
   "source": [
    "wuti = small_rnn_model.sample(np.ones((1,20)) * 0)"
   ]
  },
  {
   "cell_type": "code",
   "execution_count": 102,
   "metadata": {
    "collapsed": false
   },
   "outputs": [],
   "source": [
    "wotu_cn = cn_utils.decodeChinese(wuti[0], idx_to_word)"
   ]
  },
  {
   "cell_type": "code",
   "execution_count": 103,
   "metadata": {
    "collapsed": false
   },
   "outputs": [
    {
     "name": "stdout",
     "output_type": "stream",
     "text": [
      "stt乡。endendend目，更一层楼。endendend霁，，城中增暮寒。endendend霁，\n"
     ]
    }
   ],
   "source": [
    "print wotu_cn"
   ]
  },
  {
   "cell_type": "code",
   "execution_count": null,
   "metadata": {
    "collapsed": true
   },
   "outputs": [],
   "source": []
  }
 ],
 "metadata": {
  "anaconda-cloud": {},
  "kernelspec": {
   "display_name": "Python [default]",
   "language": "python",
   "name": "python2"
  },
  "language_info": {
   "codemirror_mode": {
    "name": "ipython",
    "version": 2
   },
   "file_extension": ".py",
   "mimetype": "text/x-python",
   "name": "python",
   "nbconvert_exporter": "python",
   "pygments_lexer": "ipython2",
   "version": "2.7.12"
  }
 },
 "nbformat": 4,
 "nbformat_minor": 1
}
