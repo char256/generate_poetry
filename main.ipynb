{
 "cells": [
  {
   "cell_type": "code",
   "execution_count": 1,
   "metadata": {
    "collapsed": false
   },
   "outputs": [],
   "source": [
    "import cn_utils\n",
    "import Poetry\n",
    "\n",
    "import numpy as np\n",
    "import matplotlib.pyplot as plt\n",
    "\n",
    "from cs231n.gradient_check import eval_numerical_gradient, eval_numerical_gradient_array\n",
    "from cs231n.rnn_layers import *\n",
    "from cs231n.captioning_solver import CaptioningSolver\n",
    "from cs231n.classifiers.rnn import CaptioningRNN\n",
    "from cs231n.coco_utils import load_coco_data, sample_coco_minibatch, decode_captions\n",
    "from cs231n.image_utils import image_from_url\n",
    "%load_ext autoreload\n",
    "%autoreload 2\n"
   ]
  },
  {
   "cell_type": "code",
   "execution_count": 2,
   "metadata": {
    "collapsed": false
   },
   "outputs": [
    {
     "name": "stdout",
     "output_type": "stream",
     "text": [
      "all files:\n",
      "['\\xe6\\xb8\\xb8\\xe5\\xad\\x90\\xe5\\x90\\x9f.txt', '\\xe8\\x8d\\x89.txt', '\\xe5\\x85\\xb3\\xe5\\xb1\\xb1\\xe6\\x9c\\x88.txt', '\\xe7\\x99\\xbb\\xe9\\xb9\\xb3\\xe9\\x9b\\x80\\xe6\\xa5\\xbc.txt', '\\xe7\\x9b\\xb8\\xe6\\x80\\x9d.txt', '\\xe7\\xbb\\x88\\xe5\\x8d\\x97\\xe6\\x9c\\x9b\\xe4\\xbd\\x99\\xe9\\x9b\\xaa.txt', '\\xe7\\x99\\xbb\\xe4\\xb9\\x90\\xe6\\xb8\\xb8\\xe5\\x8e\\x9f.txt', '\\xe9\\xb9\\xbf\\xe6\\x9f\\xb4.txt', '\\xe9\\x9d\\x99\\xe5\\xa4\\x9c\\xe6\\x80\\x9d.txt', '\\xe6\\x9d\\x82\\xe8\\xaf\\x97.txt', '\\xe5\\xbc\\xb9\\xe7\\x90\\xb4.txt', '\\xe5\\x85\\xab\\xe9\\x98\\xb5\\xe5\\x9b\\xbe.txt', '\\xe6\\xb1\\x9f\\xe9\\x9b\\xaa.txt', '\\xe6\\x98\\xa5\\xe6\\x99\\x93.txt']\n",
      "reading file:  ./poetry/游子吟.txt\n",
      "游子吟\n",
      "stt慈母手中线，游子身上衣。临行密密缝，意恐迟迟归。谁言寸草心，报得三春晖。end\n",
      "----- reading finished -----\n",
      "\n",
      "\n",
      "reading file:  ./poetry/草.txt\n",
      "草\n",
      "stt离离原上草，一岁一枯荣。野火烧不尽。春风吹又生。远芳侵古道，晴翠接荒城。又送王孙去，萋萋满别情。end\n",
      "----- reading finished -----\n",
      "\n",
      "\n",
      "reading file:  ./poetry/关山月.txt\n",
      "关山月\n",
      "stt明月出天山，苍茫云海间。长风几万里，吹度玉门关。汉下白登道，胡窥青海湾。由来征战地，不见有人还。戍客望边色，思归多苦颜。高楼当此夜，叹息未应闲。end\n",
      "----- reading finished -----\n",
      "\n",
      "\n",
      "reading file:  ./poetry/登鹳雀楼.txt\n",
      "登鹳雀楼\n",
      "stt白日依山尽，黄河入海流。欲穷千里目，更上一层楼。end\n",
      "----- reading finished -----\n",
      "\n",
      "\n",
      "reading file:  ./poetry/相思.txt\n",
      "相思\n",
      "stt红豆生南国，春来发几枝。愿君多采撷，此物最相思。end\n",
      "----- reading finished -----\n",
      "\n",
      "\n",
      "reading file:  ./poetry/终南望余雪.txt\n",
      "终南望余雪\n",
      "stt终南阴岭秀，积雪浮云端。林表明霁色，城中增暮寒。end\n",
      "----- reading finished -----\n",
      "\n",
      "\n",
      "reading file:  ./poetry/登乐游原.txt\n",
      "登乐游原\n",
      "stt向晚意不适，驱车登古原。夕阳无限好，只是近黄昏。end\n",
      "----- reading finished -----\n",
      "\n",
      "\n",
      "reading file:  ./poetry/鹿柴.txt\n",
      "鹿柴\n",
      "stt空山不见人，但闻人语响。返影入深林，复照青苔上。end\n",
      "----- reading finished -----\n",
      "\n",
      "\n",
      "reading file:  ./poetry/静夜思.txt\n",
      "静夜思\n",
      "stt床前明月光，疑是地上霜。举头望明月，低头思故乡。end\n",
      "----- reading finished -----\n",
      "\n",
      "\n",
      "reading file:  ./poetry/杂诗.txt\n",
      "杂诗\n",
      "stt君自故乡来，应知故乡事。来日绮窗前，寒梅著花未。end\n",
      "----- reading finished -----\n",
      "\n",
      "\n",
      "reading file:  ./poetry/弹琴.txt\n",
      "弹琴\n",
      "stt泠泠七弦上，静听松风寒。古调虽自爱，今人多不弹。end\n",
      "----- reading finished -----\n",
      "\n",
      "\n",
      "reading file:  ./poetry/八阵图.txt\n",
      "八阵图\n",
      "stt功盖三分国，名成八阵图。江流石不转，遣恨失吞吴。end\n",
      "----- reading finished -----\n",
      "\n",
      "\n",
      "reading file:  ./poetry/江雪.txt\n",
      "江雪\n",
      "stt千山鸟飞绝，万径人踪灭。孤舟蓑笠翁，独钓寒江雪。end\n",
      "----- reading finished -----\n",
      "\n",
      "\n",
      "reading file:  ./poetry/春晓.txt\n",
      "春晓\n",
      "stt春眠不觉晓，处处闻啼鸟。夜来风雨声，花落知多少。end\n",
      "----- reading finished -----\n",
      "\n",
      "\n"
     ]
    }
   ],
   "source": [
    "poetries = cn_utils.readFile('./poetry')\n",
    "\n",
    "word_to_idx, idx_to_word = cn_utils.get_idx_and_words(poetries)\n",
    "\n",
    "#encodec_poetry = cn_utils.encodePoetry(poetries[0],word_to_idx)\n",
    "\n",
    "#decoded_poetry = cn_utils.decodePoetry(encodec_poetry,idx_to_word)\n"
   ]
  },
  {
   "cell_type": "code",
   "execution_count": 3,
   "metadata": {
    "collapsed": false
   },
   "outputs": [],
   "source": [
    "encoded_poetries = []\n",
    "for pt in poetries:\n",
    "    encoded_poetries.append(cn_utils.encodePoetry(pt, word_to_idx))"
   ]
  },
  {
   "cell_type": "code",
   "execution_count": 4,
   "metadata": {
    "collapsed": false
   },
   "outputs": [],
   "source": [
    "import poetry_utils\n",
    "data = {}\n",
    "data = poetry_utils.generate_data(encoded_poetries, data)"
   ]
  },
  {
   "cell_type": "code",
   "execution_count": 13,
   "metadata": {
    "collapsed": false,
    "scrolled": false
   },
   "outputs": [
    {
     "name": "stdout",
     "output_type": "stream",
     "text": [
      "Automatic pdb calling has been turned ON\n",
      "(14, 20) (14, 100)\n",
      "(Iteration 1 / 300) loss: 163.262402\n",
      "(Iteration 11 / 300) loss: 107.459439\n",
      "(Iteration 21 / 300) loss: 104.265842\n",
      "(Iteration 31 / 300) loss: 73.257317\n",
      "(Iteration 41 / 300) loss: 53.444630\n",
      "(Iteration 51 / 300) loss: 38.891380\n",
      "(Iteration 61 / 300) loss: 33.442325\n",
      "(Iteration 71 / 300) loss: 29.399380\n",
      "(Iteration 81 / 300) loss: 24.867379\n",
      "(Iteration 91 / 300) loss: 26.225458\n",
      "(Iteration 101 / 300) loss: 24.622332\n",
      "(Iteration 111 / 300) loss: 23.119585\n",
      "(Iteration 121 / 300) loss: 23.409248\n",
      "(Iteration 131 / 300) loss: 25.856579\n",
      "(Iteration 141 / 300) loss: 25.439280\n",
      "(Iteration 151 / 300) loss: 33.682468\n",
      "(Iteration 161 / 300) loss: 24.860526\n",
      "(Iteration 171 / 300) loss: 27.526332\n",
      "(Iteration 181 / 300) loss: 29.075721\n",
      "(Iteration 191 / 300) loss: 29.168314\n",
      "(Iteration 201 / 300) loss: 35.165456\n",
      "(Iteration 211 / 300) loss: 27.903239\n",
      "(Iteration 221 / 300) loss: 24.731540\n",
      "(Iteration 231 / 300) loss: 24.737765\n",
      "(Iteration 241 / 300) loss: 31.438557\n",
      "(Iteration 251 / 300) loss: 28.264774\n",
      "(Iteration 261 / 300) loss: 24.923711\n",
      "(Iteration 271 / 300) loss: 24.783837\n",
      "(Iteration 281 / 300) loss: 28.870197\n",
      "(Iteration 291 / 300) loss: 26.328838\n"
     ]
    },
    {
     "data": {
      "image/png": "[encoded data removed]",
      "text/plain": [
       "<matplotlib.figure.Figure at 0x7f8a085b3650>"
      ]
     },
     "metadata": {},
     "output_type": "display_data"
    }
   ],
   "source": [
    "%pdb on\n",
    "small_data = data\n",
    "print data['train_features'].shape,data['train_captions'].shape\n",
    "small_rnn_model = CaptioningRNN(\n",
    "          cell_type='lstm',\n",
    "          word_to_idx=word_to_idx,\n",
    "          input_dim=data['train_features'].shape[1],\n",
    "          hidden_dim=512,\n",
    "          wordvec_dim=256,\n",
    "        )\n",
    "\n",
    "small_rnn_solver = CaptioningSolver(small_rnn_model, small_data,\n",
    "           update_rule='adam',\n",
    "           num_epochs=300,\n",
    "           batch_size=25,\n",
    "           optim_config={\n",
    "             'learning_rate': 5e-3,\n",
    "           },\n",
    "           lr_decay=0.95,\n",
    "           verbose=True, print_every=10,\n",
    "         )\n",
    "\n",
    "small_rnn_solver.train()\n",
    "\n",
    "# Plot the training losses\n",
    "plt.plot(small_rnn_solver.loss_history)\n",
    "plt.xlabel('Iteration')\n",
    "plt.ylabel('Loss')\n",
    "plt.title('Training loss history')\n",
    "plt.show()"
   ]
  },
  {
   "cell_type": "code",
   "execution_count": 17,
   "metadata": {
    "collapsed": false
   },
   "outputs": [],
   "source": [
    "sample_captions = small_rnn_model.sample(data['train_features'],max_length=50)"
   ]
  },
  {
   "cell_type": "code",
   "execution_count": 18,
   "metadata": {
    "collapsed": false
   },
   "outputs": [],
   "source": [
    "first = cn_utils.decodeChinese(sample_captions[0], idx_to_word)\n",
    "second = cn_utils.decodeChinese(sample_captions[1], idx_to_word)"
   ]
  },
  {
   "cell_type": "code",
   "execution_count": 19,
   "metadata": {
    "collapsed": false
   },
   "outputs": [
    {
     "name": "stdout",
     "output_type": "stream",
     "text": [
      "游子吟blkblkblkblkblkblkblkblkblkblkblkblkblkblkblkblkblk \n",
      "stt慈母手中线，游子身上衣。临行密密缝，意恐迟迟归。谁言寸草心，报得三春晖。endend望边色，思归多苦。end客\n",
      "草blkblkblkblkblkblkblkblkblkblkblkblkblkblkblkblkblkblkblk \n",
      "stt离离原上草，一一一枯荣。野火烧不尽。春风吹又生。远芳侵古道，晴翠接荒荒。又送王孙去，萋萋满别情。end\n"
     ]
    }
   ],
   "source": [
    "print cn_utils.decodeChinese(data['train_features'][0].astype(int), idx_to_word), '\\n', first\n",
    "print cn_utils.decodeChinese(data['train_features'][1].astype(int), idx_to_word), '\\n', second"
   ]
  },
  {
   "cell_type": "code",
   "execution_count": 20,
   "metadata": {
    "collapsed": false
   },
   "outputs": [],
   "source": [
    "wuti = small_rnn_model.sample(np.ones((1,20)) * 0)"
   ]
  },
  {
   "cell_type": "code",
   "execution_count": 21,
   "metadata": {
    "collapsed": false
   },
   "outputs": [],
   "source": [
    "wuti_cn = cn_utils.decodeChinese(wuti[0], idx_to_word)"
   ]
  },
  {
   "cell_type": "code",
   "execution_count": 22,
   "metadata": {
    "collapsed": false
   },
   "outputs": [
    {
     "name": "stdout",
     "output_type": "stream",
     "text": [
      "stt。endend白山，，黄海。。end千千目，，是是一上。endend望草，，思\n"
     ]
    }
   ],
   "source": [
    "print wuti_cn"
   ]
  },
  {
   "cell_type": "code",
   "execution_count": 40,
   "metadata": {
    "collapsed": true
   },
   "outputs": [],
   "source": [
    "import poetry_utils"
   ]
  },
  {
   "cell_type": "code",
   "execution_count": 73,
   "metadata": {
    "collapsed": false
   },
   "outputs": [],
   "source": [
    "wisdom = small_rnn_model.sample(poetry_utils.title_to_feature('功盖三分国，名成八阵图', word_to_idx))"
   ]
  },
  {
   "cell_type": "code",
   "execution_count": 74,
   "metadata": {
    "collapsed": false
   },
   "outputs": [
    {
     "name": "stdout",
     "output_type": "stream",
     "text": [
      "stt终南南秀，积雪浮云端。林表明霁色，城中增暮寒。endend寸草，，\n"
     ]
    }
   ],
   "source": [
    "print cn_utils.decodeChinese(wisdom[0], idx_to_word)"
   ]
  },
  {
   "cell_type": "code",
   "execution_count": null,
   "metadata": {
    "collapsed": true
   },
   "outputs": [],
   "source": []
  }
 ],
 "metadata": {
  "anaconda-cloud": {},
  "kernelspec": {
   "display_name": "Python [default]",
   "language": "python",
   "name": "python2"
  },
  "language_info": {
   "codemirror_mode": {
    "name": "ipython",
    "version": 2
   },
   "file_extension": ".py",
   "mimetype": "text/x-python",
   "name": "python",
   "nbconvert_exporter": "python",
   "pygments_lexer": "ipython2",
   "version": "2.7.12"
  }
 },
 "nbformat": 4,
 "nbformat_minor": 1
}
