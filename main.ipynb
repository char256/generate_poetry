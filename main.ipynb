{
 "cells": [
  {
   "cell_type": "code",
   "execution_count": 9,
   "metadata": {
    "collapsed": false
   },
   "outputs": [
    {
     "name": "stdout",
     "output_type": "stream",
     "text": [
      "The autoreload extension is already loaded. To reload it, use:\n",
      "  %reload_ext autoreload\n"
     ]
    }
   ],
   "source": [
    "import cn_utils\n",
    "import Poetry\n",
    "\n",
    "import numpy as np\n",
    "import matplotlib.pyplot as plt\n",
    "\n",
    "from cs231n.gradient_check import eval_numerical_gradient, eval_numerical_gradient_array\n",
    "from cs231n.rnn_layers import *\n",
    "from cs231n.captioning_solver import CaptioningSolver\n",
    "from cs231n.classifiers.rnn import CaptioningRNN\n",
    "from cs231n.coco_utils import load_coco_data, sample_coco_minibatch, decode_captions\n",
    "from cs231n.image_utils import image_from_url\n",
    "%load_ext autoreload\n",
    "%autoreload 2\n"
   ]
  },
  {
   "cell_type": "code",
   "execution_count": 10,
   "metadata": {
    "collapsed": false
   },
   "outputs": [
    {
     "name": "stdout",
     "output_type": "stream",
     "text": [
      "all files:\n",
      "['\\xe5\\x85\\xab\\xe9\\x98\\xb5\\xe5\\x9b\\xbe.txt', '\\xe5\\x85\\xb3\\xe5\\xb1\\xb1\\xe6\\x9c\\x88.txt', '\\xe5\\xbc\\xb9\\xe7\\x90\\xb4.txt', '\\xe6\\x98\\xa5\\xe6\\x99\\x93.txt', '\\xe6\\x9d\\x82\\xe8\\xaf\\x97.txt', '\\xe6\\xb1\\x9f\\xe9\\x9b\\xaa.txt', '\\xe6\\xb8\\xb8\\xe5\\xad\\x90\\xe5\\x90\\x9f.txt', '\\xe7\\x99\\xbb\\xe4\\xb9\\x90\\xe6\\xb8\\xb8\\xe5\\x8e\\x9f.txt', '\\xe7\\x99\\xbb\\xe9\\xb9\\xb3\\xe9\\x9b\\x80\\xe6\\xa5\\xbc.txt', '\\xe7\\x9b\\xb8\\xe6\\x80\\x9d.txt', '\\xe7\\xbb\\x88\\xe5\\x8d\\x97\\xe6\\x9c\\x9b\\xe4\\xbd\\x99\\xe9\\x9b\\xaa.txt', '\\xe8\\x8d\\x89.txt', '\\xe9\\x9d\\x99\\xe5\\xa4\\x9c\\xe6\\x80\\x9d.txt', '\\xe9\\xb9\\xbf\\xe6\\x9f\\xb4.txt']\n",
      "reading file:  ./poetry/八阵图.txt\n",
      "八阵图\n",
      "stt功盖三分国，名成八阵图。江流石不转，遣恨失吞吴。end\n",
      "----- reading finished -----\n",
      "\n",
      "\n",
      "reading file:  ./poetry/关山月.txt\n",
      "关山月\n",
      "stt明月出天山，苍茫云海间。长风几万里，吹度玉门关。汉下白登道，胡窥青海湾。由来征战地，不见有人还。戍客望边色，思归多苦颜。高楼当此夜，叹息未应闲。end\n",
      "----- reading finished -----\n",
      "\n",
      "\n",
      "reading file:  ./poetry/弹琴.txt\n",
      "弹琴\n",
      "stt泠泠七弦上，静听松风寒。古调虽自爱，今人多不弹。end\n",
      "----- reading finished -----\n",
      "\n",
      "\n",
      "reading file:  ./poetry/春晓.txt\n",
      "春晓\n",
      "stt春眠不觉晓，处处闻啼鸟。夜来风雨声，花落知多少。end\n",
      "----- reading finished -----\n",
      "\n",
      "\n",
      "reading file:  ./poetry/杂诗.txt\n",
      "杂诗\n",
      "stt君自故乡来，应知故乡事。来日绮窗前，寒梅著花未。end\n",
      "----- reading finished -----\n",
      "\n",
      "\n",
      "reading file:  ./poetry/江雪.txt\n",
      "江雪\n",
      "stt千山鸟飞绝，万径人踪灭。孤舟蓑笠翁，独钓寒江雪。end\n",
      "----- reading finished -----\n",
      "\n",
      "\n",
      "reading file:  ./poetry/游子吟.txt\n",
      "游子吟\n",
      "stt慈母手中线，游子身上衣。临行密密缝，意恐迟迟归。谁言寸草心，报得三春晖。end\n",
      "----- reading finished -----\n",
      "\n",
      "\n",
      "reading file:  ./poetry/登乐游原.txt\n",
      "登乐游原\n",
      "stt向晚意不适，驱车登古原。夕阳无限好，只是近黄昏。end\n",
      "----- reading finished -----\n",
      "\n",
      "\n",
      "reading file:  ./poetry/登鹳雀楼.txt\n",
      "登鹳雀楼\n",
      "stt白日依山尽，黄河入海流。欲穷千里目，更上一层楼。end\n",
      "----- reading finished -----\n",
      "\n",
      "\n",
      "reading file:  ./poetry/相思.txt\n",
      "相思\n",
      "stt红豆生南国，春来发几枝。愿君多采撷，此物最相思。end\n",
      "----- reading finished -----\n",
      "\n",
      "\n",
      "reading file:  ./poetry/终南望余雪.txt\n",
      "终南望余雪\n",
      "stt终南阴岭秀，积雪浮云端。林表明霁色，城中增暮寒。end\n",
      "----- reading finished -----\n",
      "\n",
      "\n",
      "reading file:  ./poetry/草.txt\n",
      "草\n",
      "stt离离原上草，一岁一枯荣。野火烧不尽。春风吹又生。远芳侵古道，晴翠接荒城。又送王孙去，萋萋满别情。end\n",
      "----- reading finished -----\n",
      "\n",
      "\n",
      "reading file:  ./poetry/静夜思.txt\n",
      "静夜思\n",
      "stt床前明月光，疑是地上霜。举头望明月，低头思故乡。end\n",
      "----- reading finished -----\n",
      "\n",
      "\n",
      "reading file:  ./poetry/鹿柴.txt\n",
      "鹿柴\n",
      "stt空山不见人，但闻人语响。返影入深林，复照青苔上。end\n",
      "----- reading finished -----\n",
      "\n",
      "\n"
     ]
    }
   ],
   "source": [
    "poetries = cn_utils.readFile('./poetry')\n",
    "\n",
    "word_to_idx, idx_to_word = cn_utils.get_idx_and_words(poetries)\n",
    "\n",
    "#encodec_poetry = cn_utils.encodePoetry(poetries[0],word_to_idx)\n",
    "\n",
    "#decoded_poetry = cn_utils.decodePoetry(encodec_poetry,idx_to_word)\n"
   ]
  },
  {
   "cell_type": "code",
   "execution_count": 11,
   "metadata": {
    "collapsed": false
   },
   "outputs": [],
   "source": [
    "encoded_poetries = []\n",
    "for pt in poetries:\n",
    "    encoded_poetries.append(cn_utils.encodePoetry(pt, word_to_idx))"
   ]
  },
  {
   "cell_type": "code",
   "execution_count": 15,
   "metadata": {
    "collapsed": false
   },
   "outputs": [
    {
     "name": "stdout",
     "output_type": "stream",
     "text": [
      "poetry_utils._generate_feature: [ 3.  4.  5.  0.  3.  4.  5.  0.  3.  4.  5.  0.  3.  4.  5.  0.  3.  4.\n",
      "  5.  0.]\n",
      "poetry_utils._generate_feature: [ 25.  26.  27.   0.  25.  26.  27.   0.  25.  26.  27.   0.  25.  26.  27.\n",
      "   0.  25.  26.  27.   0.]\n",
      "poetry_utils._generate_feature: [ 83.  84.   0.  83.  84.   0.  83.  84.   0.  83.  84.   0.  83.  84.   0.\n",
      "  83.  84.   0.   0.   0.]\n",
      "poetry_utils._generate_feature: [  99.  100.    0.   99.  100.    0.   99.  100.    0.   99.  100.    0.\n",
      "   99.  100.    0.   99.  100.    0.    0.    0.]\n",
      "poetry_utils._generate_feature: [ 113.  114.    0.  113.  114.    0.  113.  114.    0.  113.  114.    0.\n",
      "  113.  114.    0.  113.  114.    0.    0.    0.]\n",
      "poetry_utils._generate_feature: [  15.  125.    0.   15.  125.    0.   15.  125.    0.   15.  125.    0.\n",
      "   15.  125.    0.   15.  125.    0.    0.    0.]\n",
      "poetry_utils._generate_feature: [ 139.  140.  141.    0.  139.  140.  141.    0.  139.  140.  141.    0.\n",
      "  139.  140.  141.    0.  139.  140.  141.    0.]\n",
      "poetry_utils._generate_feature: [  48.  164.  139.  165.    0.   48.  164.  139.  165.    0.   48.  164.\n",
      "  139.  165.    0.   48.  164.  139.  165.    0.]\n",
      "poetry_utils._generate_feature: [  48.  181.  182.   74.    0.   48.  181.  182.   74.    0.   48.  181.\n",
      "  182.   74.    0.   48.  181.  182.   74.    0.]\n",
      "poetry_utils._generate_feature: [ 193.   68.    0.  193.   68.    0.  193.   68.    0.  193.   68.    0.\n",
      "  193.   68.    0.  193.   68.    0.    0.    0.]\n",
      "poetry_utils._generate_feature: [ 205.  197.   65.  206.  125.    0.  205.  197.   65.  206.  125.    0.\n",
      "  205.  197.   65.  206.  125.    0.    0.    0.]\n",
      "poetry_utils._generate_feature: [ 159.    0.  159.    0.  159.    0.  159.    0.  159.    0.  159.    0.\n",
      "  159.    0.  159.    0.  159.    0.  159.    0.]\n",
      "poetry_utils._generate_feature: [ 89.  77.  68.   0.  89.  77.  68.   0.  89.  77.  68.   0.  89.  77.  68.\n",
      "   0.  89.  77.  68.   0.]\n",
      "poetry_utils._generate_feature: [ 249.  250.    0.  249.  250.    0.  249.  250.    0.  249.  250.    0.\n",
      "  249.  250.    0.  249.  250.    0.    0.    0.]\n"
     ]
    }
   ],
   "source": [
    "import poetry_utils\n",
    "data = {}\n",
    "data = poetry_utils.generate_data(encoded_poetries, data)"
   ]
  },
  {
   "cell_type": "code",
   "execution_count": 20,
   "metadata": {
    "collapsed": false,
    "scrolled": false
   },
   "outputs": [
    {
     "name": "stdout",
     "output_type": "stream",
     "text": [
      "Automatic pdb calling has been turned ON\n",
      "(14, 20) (14, 100)\n",
      "(Iteration 1 / 300) loss: 163.365628\n",
      "(Iteration 11 / 300) loss: 155.799275\n",
      "(Iteration 21 / 300) loss: 113.500866\n",
      "(Iteration 31 / 300) loss: 88.806249\n",
      "(Iteration 41 / 300) loss: 62.233978\n",
      "(Iteration 51 / 300) loss: 51.807036\n",
      "(Iteration 61 / 300) loss: 43.871203\n",
      "(Iteration 71 / 300) loss: 45.649907\n",
      "(Iteration 81 / 300) loss: 44.335423\n",
      "(Iteration 91 / 300) loss: 33.296370\n",
      "(Iteration 101 / 300) loss: 37.913958\n",
      "(Iteration 111 / 300) loss: 35.886527\n",
      "(Iteration 121 / 300) loss: 31.000849\n",
      "(Iteration 131 / 300) loss: 33.335544\n",
      "(Iteration 141 / 300) loss: 34.600224\n",
      "(Iteration 151 / 300) loss: 32.479371\n",
      "(Iteration 161 / 300) loss: 31.078577\n",
      "(Iteration 171 / 300) loss: 32.063398\n",
      "(Iteration 181 / 300) loss: 36.122978\n",
      "(Iteration 191 / 300) loss: 33.730081\n",
      "(Iteration 201 / 300) loss: 30.658733\n",
      "(Iteration 211 / 300) loss: 35.470142\n",
      "(Iteration 221 / 300) loss: 33.412269\n",
      "(Iteration 231 / 300) loss: 37.168645\n",
      "(Iteration 241 / 300) loss: 36.746317\n",
      "(Iteration 251 / 300) loss: 34.544881\n",
      "(Iteration 261 / 300) loss: 37.404353\n",
      "(Iteration 271 / 300) loss: 32.307636\n",
      "(Iteration 281 / 300) loss: 29.117417\n",
      "(Iteration 291 / 300) loss: 33.746066\n"
     ]
    },
    {
     "data": {
      "image/png": "[encoded data removed]",
      "text/plain": [
       "<matplotlib.figure.Figure at 0x1052bfa50>"
      ]
     },
     "metadata": {},
     "output_type": "display_data"
    }
   ],
   "source": [
    "%pdb on\n",
    "small_data = data\n",
    "print data['train_features'].shape,data['train_captions'].shape\n",
    "small_rnn_model = CaptioningRNN(\n",
    "          cell_type='lstm',\n",
    "          word_to_idx=word_to_idx,\n",
    "          input_dim=data['train_features'].shape[1],\n",
    "          hidden_dim=512,\n",
    "          wordvec_dim=256,\n",
    "        )\n",
    "\n",
    "small_rnn_solver = CaptioningSolver(small_rnn_model, small_data,\n",
    "           update_rule='adam',\n",
    "           num_epochs=300,\n",
    "           batch_size=25,\n",
    "           optim_config={\n",
    "             'learning_rate': 5e-3,\n",
    "           },\n",
    "           lr_decay=0.95,\n",
    "           verbose=True, print_every=10,\n",
    "         )\n",
    "\n",
    "small_rnn_solver.train()\n",
    "\n",
    "# Plot the training losses\n",
    "plt.plot(small_rnn_solver.loss_history)\n",
    "plt.xlabel('Iteration')\n",
    "plt.ylabel('Loss')\n",
    "plt.title('Training loss history')\n",
    "plt.show()"
   ]
  },
  {
   "cell_type": "markdown",
   "metadata": {},
   "source": [
    "# 这一段是用来测试新给定的题目来生成古诗的情况"
   ]
  },
  {
   "cell_type": "code",
   "execution_count": 24,
   "metadata": {
    "collapsed": false
   },
   "outputs": [],
   "source": [
    "wuti = small_rnn_model.sample(np.ones((1,20)) * 0)"
   ]
  },
  {
   "cell_type": "code",
   "execution_count": 25,
   "metadata": {
    "collapsed": false
   },
   "outputs": [],
   "source": [
    "wuti_cn = cn_utils.decodeChinese(wuti[0], idx_to_word)"
   ]
  },
  {
   "cell_type": "code",
   "execution_count": 26,
   "metadata": {
    "collapsed": false
   },
   "outputs": [
    {
     "name": "stdout",
     "output_type": "stream",
     "text": [
      "stt南国，寒。endend征战，，叹有人还。end客望边色，思归多苦颜。高\n"
     ]
    }
   ],
   "source": [
    "print wuti_cn"
   ]
  },
  {
   "cell_type": "code",
   "execution_count": 27,
   "metadata": {
    "collapsed": true
   },
   "outputs": [],
   "source": [
    "import poetry_utils"
   ]
  },
  {
   "cell_type": "code",
   "execution_count": 48,
   "metadata": {
    "collapsed": false
   },
   "outputs": [],
   "source": [
    "wisdom_title = '八阵图'\n",
    "wisdom = small_rnn_model.sample(poetry_utils.title_to_feature(wisdom_title, word_to_idx))"
   ]
  },
  {
   "cell_type": "code",
   "execution_count": 49,
   "metadata": {
    "collapsed": false
   },
   "outputs": [
    {
     "name": "stdout",
     "output_type": "stream",
     "text": [
      "[[ 3.  4.  5.  0.  0.  0.  0.  0.  0.  0.  0.  0.  0.  0.  0.  0.  0.  0.\n",
      "   0.  0.]]\n",
      "stt明月山，，茫云海间。长风密里，，遣恨失吞吴。endend征战，，见\n"
     ]
    }
   ],
   "source": [
    "print poetry_utils.title_to_feature(wisdom_title, word_to_idx)\n",
    "print cn_utils.decodeChinese(wisdom[0], idx_to_word)"
   ]
  },
  {
   "cell_type": "markdown",
   "metadata": {},
   "source": [
    "# 下面是用来测试对数据集的拟合情况的"
   ]
  },
  {
   "cell_type": "code",
   "execution_count": 21,
   "metadata": {
    "collapsed": false
   },
   "outputs": [],
   "source": [
    "sample_captions = small_rnn_model.sample(data['train_features'],max_length=50)"
   ]
  },
  {
   "cell_type": "code",
   "execution_count": 34,
   "metadata": {
    "collapsed": false
   },
   "outputs": [
    {
     "name": "stdout",
     "output_type": "stream",
     "text": [
      "八阵图blk八阵图blk八阵图blk八阵图blk八阵图blk \n",
      "stt功盖三分国，名成八阵图。江流石不不，遣恨失吞吴。endend征战，道，有有人还。end客望边色，思归归。end高楼\n",
      "关山月blk关山月blk关山月blk关山月blk关山月blk \n",
      "stt功盖三分国，名成八阵图。江流石不转，遣恨失吞吴。endend征战，道，叹有有还。end客望边色，思归归。end高楼\n",
      "弹琴blk弹琴blk弹琴blk弹琴blk弹琴blk弹琴blkblkblk \n",
      "stt空山不见，人处闻闻语响。返影深林，复照照青上。endendendend，吹白道，叹归。end楼。end当，道，胡窥海海湾。\n",
      "春晓blk春晓blk春晓blk春晓blk春晓blk春晓blkblkblk \n",
      "stt空山不见，人处闻闻语响。返影深林，复照照青上。endendendend，吹白道，叹归。end楼。end当，道，胡窥海海湾。\n",
      "杂诗blk杂诗blk杂诗blk杂诗blk杂诗blk杂诗blkblkblk \n",
      "stt空山不见，人处闻闻语响。返影深林，复照照青上。endendendend，吹白道，叹归。end楼。end当，道，胡窥海海湾。\n",
      "江雪blk江雪blk江雪blk江雪blk江雪blk江雪blkblkblk \n",
      "stt千山鸟飞绝，万径人踪灭。孤舟蓑笠翁，独钓寒寒。endend望边，叹叹息归归。end楼当当此，叹息未未。endend征战\n",
      "游子吟blk游子吟blk游子吟blk游子吟blk游子吟blk \n",
      "stt床前明月光，疑是地上上。举头望明月，低头思故乡。endend，，，，叹息应应闲。endend征战，叹息息应应闲。end\n",
      "登乐游原blk登乐游原blk登乐游原blk登乐游原blk \n",
      "stt向晚意不适，驱车登古原。夕阳无限好，只是近黄昏。endend望，战，晴翠翠翠城。end客望色，，息归应。end高楼\n",
      "登鹳雀楼blk登鹳雀楼blk登鹳雀楼blk登鹳雀楼blk \n",
      "stt白日依山尽，黄河入海流。欲穷里里，更上一层楼。endend征征，道，报报翠春春。end客望边，，叹息归应。end高\n",
      "相思blk相思blk相思blk相思blk相思blk相思blkblkblk \n",
      "stt红豆生南国，春来发几。来来来采，，此落知多多。endendend，此此叹叹息未。end楼。end当，叹叹息息未。endend楼\n",
      "终南望余雪blk终南望余雪blk终南望余雪blkblkblk \n",
      "stt终南阴岭秀，积积浮云端。林表明霁色，城中增寒。endendend望，此，叹息未未。end楼当当此，叹息未未。end楼。\n",
      "草blk草blk草blk草blk草blk草blk草blk草blk草blk草blk \n",
      "stt离离原上草，一一一枯荣。野火烧不尽。春风吹又生。远芳侵道，晴晴翠接荒城。又送王孙去，萋萋满别情。end\n",
      "静夜思blk静夜思blk静夜思blk静夜思blk静夜思blk \n",
      "stt床前明月光，疑是地上霜。举头望明月，低头思故乡。endend，，，，叹息应应闲。endend征战，叹息息应应闲。end\n",
      "鹿柴blk鹿柴blk鹿柴blk鹿柴blk鹿柴blk鹿柴blkblkblk \n",
      "stt空山不见，人处闻闻语响。返影深林，复照照青上。endendendend，吹白道，叹归。end楼。end当，道，胡窥海海湾。\n"
     ]
    }
   ],
   "source": [
    "for i in xrange(len(sample_captions)):\n",
    "    first = cn_utils.decodeChinese(sample_captions[i], idx_to_word)\n",
    "\n",
    "    print cn_utils.decodeChinese(data['train_features'][i].astype(int), idx_to_word), '\\n', first\n"
   ]
  },
  {
   "cell_type": "code",
   "execution_count": null,
   "metadata": {
    "collapsed": true
   },
   "outputs": [],
   "source": []
  }
 ],
 "metadata": {
  "anaconda-cloud": {},
  "kernelspec": {
   "display_name": "Python 2",
   "language": "python",
   "name": "python2"
  },
  "language_info": {
   "codemirror_mode": {
    "name": "ipython",
    "version": 2
   },
   "file_extension": ".py",
   "mimetype": "text/x-python",
   "name": "python",
   "nbconvert_exporter": "python",
   "pygments_lexer": "ipython2",
   "version": "2.7.13"
  }
 },
 "nbformat": 4,
 "nbformat_minor": 1
}
