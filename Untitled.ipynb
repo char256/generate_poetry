{
 "cells": [
  {
   "cell_type": "code",
   "execution_count": 7,
   "metadata": {
    "collapsed": false
   },
   "outputs": [],
   "source": [
    "import cn_utils\n",
    "import collections"
   ]
  },
  {
   "cell_type": "code",
   "execution_count": 5,
   "metadata": {
    "collapsed": false
   },
   "outputs": [
    {
     "name": "stdout",
     "output_type": "stream",
     "text": [
      "all files:\n",
      "['\\xe6\\xb8\\xb8\\xe5\\xad\\x90\\xe5\\x90\\x9f.txt', '\\xe8\\x8d\\x89.txt', '\\xe5\\x85\\xb3\\xe5\\xb1\\xb1\\xe6\\x9c\\x88.txt', '\\xe7\\x99\\xbb\\xe9\\xb9\\xb3\\xe9\\x9b\\x80\\xe6\\xa5\\xbc.txt', '\\xe7\\x9b\\xb8\\xe6\\x80\\x9d.txt', '\\xe7\\xbb\\x88\\xe5\\x8d\\x97\\xe6\\x9c\\x9b\\xe4\\xbd\\x99\\xe9\\x9b\\xaa.txt', '\\xe7\\x99\\xbb\\xe4\\xb9\\x90\\xe6\\xb8\\xb8\\xe5\\x8e\\x9f.txt', '\\xe9\\xb9\\xbf\\xe6\\x9f\\xb4.txt', '\\xe9\\x9d\\x99\\xe5\\xa4\\x9c\\xe6\\x80\\x9d.txt', '\\xe6\\x9d\\x82\\xe8\\xaf\\x97.txt', '\\xe5\\xbc\\xb9\\xe7\\x90\\xb4.txt', '\\xe5\\x85\\xab\\xe9\\x98\\xb5\\xe5\\x9b\\xbe.txt', '\\xe6\\xb1\\x9f\\xe9\\x9b\\xaa.txt', '\\xe6\\x98\\xa5\\xe6\\x99\\x93.txt']\n",
      "reading file:  ./poetry/游子吟.txt\n",
      "游子吟\n",
      "stt慈母手中线，游子身上衣。临行密密缝，意恐迟迟归。谁言寸草心，报得三春晖。end\n",
      "----- reading finished -----\n",
      "\n",
      "\n",
      "reading file:  ./poetry/草.txt\n",
      "草\n",
      "stt离离原上草，一岁一枯荣。野火烧不尽。春风吹又生。远芳侵古道，晴翠接荒城。又送王孙去，萋萋满别情。end\n",
      "----- reading finished -----\n",
      "\n",
      "\n",
      "reading file:  ./poetry/关山月.txt\n",
      "关山月\n",
      "stt明月出天山，苍茫云海间。长风几万里，吹度玉门关。汉下白登道，胡窥青海湾。由来征战地，不见有人还。戍客望边色，思归多苦颜。高楼当此夜，叹息未应闲。end\n",
      "----- reading finished -----\n",
      "\n",
      "\n",
      "reading file:  ./poetry/登鹳雀楼.txt\n",
      "登鹳雀楼\n",
      "stt白日依山尽，黄河入海流。欲穷千里目，更上一层楼。end\n",
      "----- reading finished -----\n",
      "\n",
      "\n",
      "reading file:  ./poetry/相思.txt\n",
      "相思\n",
      "stt红豆生南国，春来发几枝。愿君多采撷，此物最相思。end\n",
      "----- reading finished -----\n",
      "\n",
      "\n",
      "reading file:  ./poetry/终南望余雪.txt\n",
      "终南望余雪\n",
      "stt终南阴岭秀，积雪浮云端。林表明霁色，城中增暮寒。end\n",
      "----- reading finished -----\n",
      "\n",
      "\n",
      "reading file:  ./poetry/登乐游原.txt\n",
      "登乐游原\n",
      "stt向晚意不适，驱车登古原。夕阳无限好，只是近黄昏。end\n",
      "----- reading finished -----\n",
      "\n",
      "\n",
      "reading file:  ./poetry/鹿柴.txt\n",
      "鹿柴\n",
      "stt空山不见人，但闻人语响。返影入深林，复照青苔上。end\n",
      "----- reading finished -----\n",
      "\n",
      "\n",
      "reading file:  ./poetry/静夜思.txt\n",
      "静夜思\n",
      "stt床前明月光，疑是地上霜。举头望明月，低头思故乡。end\n",
      "----- reading finished -----\n",
      "\n",
      "\n",
      "reading file:  ./poetry/杂诗.txt\n",
      "杂诗\n",
      "stt君自故乡来，应知故乡事。来日绮窗前，寒梅著花未。end\n",
      "----- reading finished -----\n",
      "\n",
      "\n",
      "reading file:  ./poetry/弹琴.txt\n",
      "弹琴\n",
      "stt泠泠七弦上，静听松风寒。古调虽自爱，今人多不弹。end\n",
      "----- reading finished -----\n",
      "\n",
      "\n",
      "reading file:  ./poetry/八阵图.txt\n",
      "八阵图\n",
      "stt功盖三分国，名成八阵图。江流石不转，遣恨失吞吴。end\n",
      "----- reading finished -----\n",
      "\n",
      "\n",
      "reading file:  ./poetry/江雪.txt\n",
      "江雪\n",
      "stt千山鸟飞绝，万径人踪灭。孤舟蓑笠翁，独钓寒江雪。end\n",
      "----- reading finished -----\n",
      "\n",
      "\n",
      "reading file:  ./poetry/春晓.txt\n",
      "春晓\n",
      "stt春眠不觉晓，处处闻啼鸟。夜来风雨声，花落知多少。end\n",
      "----- reading finished -----\n",
      "\n",
      "\n"
     ]
    }
   ],
   "source": [
    "poetries = cn_utils.readFile('./poetry')"
   ]
  },
  {
   "cell_type": "code",
   "execution_count": 8,
   "metadata": {
    "collapsed": false
   },
   "outputs": [],
   "source": [
    "all_words = []\n",
    "for poetry in poetries:\n",
    "    all_words += [word for word in poetry.title+poetry.content]\n",
    "counter = collections.Counter(all_words)\n",
    "count_pairs = sorted(counter.items(), key=lambda x: -x[1])\n",
    "words, _ = zip(*count_pairs)"
   ]
  },
  {
   "cell_type": "code",
   "execution_count": 12,
   "metadata": {
    "collapsed": false
   },
   "outputs": [
    {
     "data": {
      "text/plain": [
       "1458"
      ]
     },
     "execution_count": 12,
     "metadata": {},
     "output_type": "execute_result"
    }
   ],
   "source": [
    "len(all_words)"
   ]
  },
  {
   "cell_type": "code",
   "execution_count": 14,
   "metadata": {
    "collapsed": false
   },
   "outputs": [
    {
     "data": {
      "text/plain": [
       "[('\\xe5', 108),\n",
       " ('\\xe6', 95),\n",
       " ('\\x80', 50),\n",
       " ('\\xe7', 47),\n",
       " ('\\xe9', 47),\n",
       " ('\\xe8', 47),\n",
       " ('\\xe4', 44),\n",
       " ('\\xbc', 42),\n",
       " ('\\x82', 39),\n",
       " ('\\x8c', 38),\n",
       " ('\\xb8', 38),\n",
       " ('\\xe3', 36),\n",
       " ('\\xef', 34),\n",
       " ('t', 28),\n",
       " ('\\x8d', 25),\n",
       " ('\\xb1', 24),\n",
       " ('\\xa5', 23),\n",
       " ('\\x9c', 22),\n",
       " ('\\xba', 22),\n",
       " ('\\x9f', 21),\n",
       " ('\\xa4', 21),\n",
       " ('\\x90', 20),\n",
       " ('\\x9b', 20),\n",
       " ('\\x9d', 20),\n",
       " ('\\x8e', 19),\n",
       " ('\\x98', 19),\n",
       " ('\\x81', 18),\n",
       " ('\\xbd', 18),\n",
       " ('\\x97', 17),\n",
       " ('\\x99', 17),\n",
       " ('\\xbb', 17),\n",
       " ('\\x89', 16),\n",
       " ('\\x88', 16),\n",
       " ('\\xaf', 16),\n",
       " ('\\x85', 14),\n",
       " ('e', 14),\n",
       " ('d', 14),\n",
       " ('n', 14),\n",
       " ('s', 14),\n",
       " ('\\x8a', 13),\n",
       " ('\\xb9', 13),\n",
       " ('\\xbf', 13),\n",
       " ('\\x87', 12),\n",
       " ('\\xaa', 12),\n",
       " ('\\x8f', 11),\n",
       " ('\\x92', 11),\n",
       " ('\\xad', 11),\n",
       " ('\\xbe', 11),\n",
       " ('\\x8b', 10),\n",
       " ('\\xb4', 10),\n",
       " ('\\x91', 9),\n",
       " ('\\xa3', 9),\n",
       " ('\\xb3', 9),\n",
       " ('\\xb5', 9),\n",
       " ('\\x83', 8),\n",
       " ('\\x84', 8),\n",
       " ('\\x93', 8),\n",
       " ('\\xa1', 8),\n",
       " ('\\xa0', 8),\n",
       " ('\\xab', 8),\n",
       " ('\\xb0', 8),\n",
       " ('\\x94', 7),\n",
       " ('\\x9e', 7),\n",
       " ('\\xa7', 7),\n",
       " ('\\xb2', 7),\n",
       " ('\\x95', 6),\n",
       " ('\\x9a', 6),\n",
       " ('\\xa6', 6),\n",
       " ('\\xb7', 6),\n",
       " ('\\x86', 5),\n",
       " ('\\xa2', 5),\n",
       " ('\\xa9', 5),\n",
       " ('\\xa8', 5),\n",
       " ('\\xac', 5),\n",
       " ('\\xae', 5),\n",
       " ('\\x96', 3)]"
      ]
     },
     "execution_count": 14,
     "metadata": {},
     "output_type": "execute_result"
    }
   ],
   "source": [
    "count_pairs"
   ]
  },
  {
   "cell_type": "code",
   "execution_count": 17,
   "metadata": {
    "collapsed": false
   },
   "outputs": [
    {
     "data": {
      "text/plain": [
       "'\\xe6\\x98\\xa5\\xe6\\x99\\x93'"
      ]
     },
     "execution_count": 17,
     "metadata": {},
     "output_type": "execute_result"
    }
   ],
   "source": [
    "poetry.title"
   ]
  },
  {
   "cell_type": "code",
   "execution_count": null,
   "metadata": {
    "collapsed": true
   },
   "outputs": [],
   "source": []
  }
 ],
 "metadata": {
  "anaconda-cloud": {},
  "kernelspec": {
   "display_name": "Python [default]",
   "language": "python",
   "name": "python2"
  },
  "language_info": {
   "codemirror_mode": {
    "name": "ipython",
    "version": 2
   },
   "file_extension": ".py",
   "mimetype": "text/x-python",
   "name": "python",
   "nbconvert_exporter": "python",
   "pygments_lexer": "ipython2",
   "version": "2.7.12"
  }
 },
 "nbformat": 4,
 "nbformat_minor": 1
}
